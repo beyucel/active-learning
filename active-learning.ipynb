{
 "cells": [
  {
   "cell_type": "markdown",
   "metadata": {},
   "source": [
    "# Active Learning Notebook\n",
    "\n",
    "Test out using [modAL](https://modal-python.readthedocs.io/en/latest/index.html) with PyMKS."
   ]
  },
  {
   "cell_type": "markdown",
   "metadata": {},
   "source": [
    "Todo list from meeting with Olga:\n",
    "\n",
    " - GSx, GSy, igs in this notebook\n",
    " - implement active learning with the big data set\n",
    " - test memory usage and run times with big data sets and active learning\n",
    "    "
   ]
  },
  {
   "cell_type": "code",
   "execution_count": 1,
   "metadata": {},
   "outputs": [],
   "source": [
    "import numpy as np\n",
    "import dask.array as da\n",
    "from dask_ml.model_selection import train_test_split\n",
    "from sklearn.pipeline import Pipeline\n",
    "from dask_ml.decomposition import IncrementalPCA\n",
    "from dask_ml.preprocessing import PolynomialFeatures\n",
    "from sklearn.linear_model import LinearRegression\n",
    "import matplotlib.pyplot as plt\n",
    "from sklearn.gaussian_process import GaussianProcessRegressor\n",
    "from sklearn.gaussian_process.kernels import RBF\n",
    "from sklearn.metrics import mean_squared_error as mse\n",
    "from sklearn.metrics import r2_score\n",
    "import warnings\n",
    "warnings.filterwarnings('ignore')\n",
    "\n",
    "from pymks import (\n",
    "    generate_multiphase,\n",
    "    plot_microstructures,\n",
    "    PrimitiveTransformer,\n",
    "    TwoPointCorrelation,\n",
    "    GenericTransformer,\n",
    "    solve_fe\n",
    ")\n",
    "\n",
    "from toolz.curried import curry, pipe, valmap, itemmap, iterate\n",
    "from modAL.models import ActiveLearner, CommitteeRegressor\n",
    "from modAL.disagreement import max_std_sampling\n",
    "from modAL.models import BayesianOptimizer\n",
    "from modAL.acquisition import max_EI\n",
    "import tqdm\n",
    "import types"
   ]
  },
  {
   "cell_type": "markdown",
   "metadata": {},
   "source": [
    "## Functions for evaluating learners\n",
    "\n",
    "Following are functions for evaluating learners. The `oracle_func` generates the `y_data` given some `x_data`. We're assuming that it's expensive to use the oracle. Hence why we need active learning."
   ]
  },
  {
   "cell_type": "code",
   "execution_count": 2,
   "metadata": {},
   "outputs": [],
   "source": [
    "@curry\n",
    "def iterate_times(func, times, value):\n",
    "    iter_ = iterate(func, value)\n",
    "    for _ in tqdm.tqdm(range(times)):\n",
    "        next(iter_)\n",
    "    return next(iter_)"
   ]
  },
  {
   "cell_type": "code",
   "execution_count": 3,
   "metadata": {},
   "outputs": [],
   "source": [
    "@curry\n",
    "def update_learner(oracle_func, x_pool, x_test, y_test, learner):\n",
    "    if not hasattr(learner, 'scores'):\n",
    "        learner.scores = [learner.score(x_test, y_test)]\n",
    "    query_idx, query_instance = learner.query(x_pool)\n",
    "    query_y = oracle_func(query_instance.reshape(1, -1))\n",
    "    learner.teach(query_instance.reshape(1, -1), query_y)\n",
    "    learner.scores += [learner.score(x_test, y_test)]\n",
    "    return learner\n",
    "\n",
    "@curry\n",
    "def evaluate_learner(oracle_func, x_pool, x_test, y_test, n_query, learner):\n",
    "    return iterate_times(\n",
    "        update_learner(oracle_func, x_pool, x_test, y_test),\n",
    "        n_query,\n",
    "        learner\n",
    "    )"
   ]
  },
  {
   "cell_type": "markdown",
   "metadata": {},
   "source": [
    "## Generate Data Functions\n",
    "\n",
    "Functions to generate the microstructure. The microstructures are stochastically generated from 6 nominal classes."
   ]
  },
  {
   "cell_type": "code",
   "execution_count": 4,
   "metadata": {},
   "outputs": [],
   "source": [
    "def shuffle(data):\n",
    "    tmp = np.array(data)\n",
    "    np.random.shuffle(tmp)\n",
    "    return da.from_array(tmp, chunks=data.chunks)\n",
    "\n",
    "def generate_x(shape, seed):\n",
    "    da.random.seed(seed)\n",
    "    np.random.seed(seed)\n",
    "\n",
    "    tmp = [\n",
    "        generate_multiphase(shape=shape, grain_size=x, volume_fraction=(0.5, 0.5), chunks=50, percent_variance=0.15)\n",
    "        for x in [(15, 2), (2, 15), (7, 7), (9, 3), (3, 9), (2, 2)]\n",
    "    ]\n",
    "    return np.array(shuffle(da.concatenate(tmp)))"
   ]
  },
  {
   "cell_type": "markdown",
   "metadata": {},
   "source": [
    "## Functions to generate models\n",
    "\n",
    "Here we use the GPR model as it returns a probability that's required by the `ActiveLearner` class."
   ]
  },
  {
   "cell_type": "code",
   "execution_count": 5,
   "metadata": {},
   "outputs": [],
   "source": [
    "def pca_steps():\n",
    "    return (\n",
    "        (\"reshape\", GenericTransformer(\n",
    "            lambda x: x.reshape(x.shape[0], x_data.shape[1], x_data.shape[2])\n",
    "        )),\n",
    "        (\"discritize\",PrimitiveTransformer(n_state=2, min_=0.0, max_=1.0)),\n",
    "        (\"correlations\",TwoPointCorrelation(periodic_boundary=True, cutoff=31, correlations=[(0, 1), (1, 1)])),\n",
    "        ('flatten', GenericTransformer(lambda x: x.reshape(x.shape[0], -1))),\n",
    "        ('pca', IncrementalPCA(n_components=3, svd_solver='full')),\n",
    "    )"
   ]
  },
  {
   "cell_type": "code",
   "execution_count": 6,
   "metadata": {},
   "outputs": [],
   "source": [
    "def make_gp_model():\n",
    "    kernel = 1 * RBF(length_scale=1.0, length_scale_bounds=(1e-1, 1e2))\n",
    "    regressor = GaussianProcessRegressor(kernel=kernel, n_restarts_optimizer=9)\n",
    "    return Pipeline(steps=pca_steps() + (\n",
    "        ('poly', PolynomialFeatures(degree=3)),\n",
    "        ('regressor', regressor),\n",
    "    ))\n",
    "\n",
    "def make_linear_model():\n",
    "    return Pipeline(steps=pca_steps() + (\n",
    "        ('poly', PolynomialFeatures(degree=3))\n",
    "        ('regressor', LinearRegression()),\n",
    "    ))\n",
    "\n",
    "def pca_model():\n",
    "    return Pipeline(steps=pca_steps())"
   ]
  },
  {
   "cell_type": "markdown",
   "metadata": {},
   "source": [
    "## The Oracle\n",
    "\n",
    "The oracle function is an FE simulation on the 2D grid."
   ]
  },
  {
   "cell_type": "code",
   "execution_count": 7,
   "metadata": {},
   "outputs": [],
   "source": [
    "@curry\n",
    "def oracle_func(shape, x_data):\n",
    "    y_stress = solve_fe(x_data.reshape((-1,) + shape),\n",
    "                        elastic_modulus=(1.3, 2.5),\n",
    "                        poissons_ratio=(0.42, 0.35),\n",
    "                        macro_strain=0.001)['stress'][..., 0]\n",
    "\n",
    "    return np.array(da.average(y_stress.reshape(y_stress.shape[0], -1), axis=1))"
   ]
  },
  {
   "cell_type": "markdown",
   "metadata": {},
   "source": [
    "## Helper Functions"
   ]
  },
  {
   "cell_type": "code",
   "execution_count": 8,
   "metadata": {},
   "outputs": [],
   "source": [
    "def plot_parity(y_test, y_predict, label='Testing Data'):\n",
    "    pred_data = np.array([y_test, y_predict])\n",
    "    line = np.min(pred_data), np.max(pred_data)\n",
    "    plt.plot(pred_data[0], pred_data[1], 'o', label=label)\n",
    "    plt.plot(line, line, '-', linewidth=3, color='k')\n",
    "    plt.title('Goodness of Fit', fontsize=20)\n",
    "    plt.xlabel('Actual', fontsize=18)\n",
    "    plt.ylabel('Predicted', fontsize=18)\n",
    "    plt.legend(loc=2, fontsize=15)\n",
    "    return plt"
   ]
  },
  {
   "cell_type": "code",
   "execution_count": 9,
   "metadata": {},
   "outputs": [],
   "source": [
    "def three_way_split(x_data, props, random_state):\n",
    "    x_0, x_ = train_test_split(x_data, train_size=props[0], random_state=random_state)\n",
    "    x_1, x_2 = train_test_split(x_, train_size=props[1] / (1 - props[0]), random_state=random_state)\n",
    "    return flatten(x_0), flatten(x_1), flatten(x_2)"
   ]
  },
  {
   "cell_type": "code",
   "execution_count": 10,
   "metadata": {},
   "outputs": [],
   "source": [
    "def flatten(x_data):\n",
    "    return x_data.reshape(x_data.shape[0], -1)"
   ]
  },
  {
   "cell_type": "markdown",
   "metadata": {},
   "source": [
    "## Greedy Sampling on the x_data GSx"
   ]
  },
  {
   "cell_type": "code",
   "execution_count": 11,
   "metadata": {},
   "outputs": [],
   "source": [
    "def split_on_ids(arr, ids):\n",
    "    mask = np.zeros(len(arr), dtype=bool)\n",
    "    mask[ids] = True\n",
    "    return arr[mask], arr[~mask]\n",
    "    \n",
    "def calc_distances(d0, d1):\n",
    "    return np.linalg.norm(d0[:, None, :] - d1[None, :, :], ord=2, axis=-1)\n",
    "\n",
    "def next_sample(labeled_samples, scores):\n",
    "    scores_labeled, scores_unlabeled = split_on_ids(scores, labeled_samples)\n",
    "    _, unlabeled_ids = split_on_ids(np.arange(len(scores)), labeled_samples)\n",
    "    if len(scores_labeled) == 0:\n",
    "        scores_labeled = np.mean(scores_unlabeled, axis=0)[None]\n",
    "    distances_nk = calc_distances(scores_unlabeled, scores_labeled)\n",
    "    distances_n = np.min(distances_nk, axis=1)\n",
    "    return unlabeled_ids[np.argmax(distances_n)]\n",
    "                                         \n",
    "def gsx_query(model, x_pool):\n",
    "    if not hasattr(model, 'gsx_data'):\n",
    "        model.gsx_data = [], pca_model().fit_transform(x_pool)\n",
    "    labeled_samples, scores = model.gsx_data\n",
    "    next_id = next_sample(labeled_samples, scores)\n",
    "    model.gsx_data = (labeled_samples + [next_id], scores)\n",
    "    return next_id, x_pool[next_id]"
   ]
  },
  {
   "cell_type": "code",
   "execution_count": 12,
   "metadata": {},
   "outputs": [
    {
     "name": "stdout",
     "output_type": "stream",
     "text": [
      "[3, 0, 1, 2]\n",
      "4\n"
     ]
    }
   ],
   "source": [
    "xx = np.array([[0, 0, 0], [1, 0, 0], [0, 1, 0], [1, 1, 0], [0.1, 0.1, 0]])\n",
    "samples = []\n",
    "id_ = next_sample(samples, xx)\n",
    "samples.append(id_)\n",
    "id_ = next_sample(samples, xx)\n",
    "samples.append(id_)\n",
    "id_ = next_sample(samples, xx)\n",
    "samples.append(id_)\n",
    "id_ = next_sample(samples, xx)\n",
    "samples.append(id_)\n",
    "id_ = next_sample(samples, xx)\n",
    "print(samples)\n",
    "print(id_)"
   ]
  },
  {
   "cell_type": "markdown",
   "metadata": {},
   "source": [
    "# Active Learning!"
   ]
  },
  {
   "cell_type": "markdown",
   "metadata": {},
   "source": [
    "## Generate Data"
   ]
  },
  {
   "cell_type": "code",
   "execution_count": 13,
   "metadata": {},
   "outputs": [],
   "source": [
    "grid_shape = (41, 41)\n",
    "n_sample_per_class = 100\n",
    "x_data = generate_x((n_sample_per_class,) + grid_shape, 5)\n",
    "x_pool, x_test, x_train = three_way_split(x_data, (0.8, 0.16), 99)\n",
    "oracle = oracle_func(grid_shape)"
   ]
  },
  {
   "cell_type": "code",
   "execution_count": 14,
   "metadata": {},
   "outputs": [
    {
     "data": {
      "image/png": "[encoded data removed]",
      "text/plain": [
       "<Figure size 2880x288 with 10 Axes>"
      ]
     },
     "metadata": {},
     "output_type": "display_data"
    }
   ],
   "source": [
    "plot_microstructures(*x_data[:10], cmap='gray', colorbar=False);"
   ]
  },
  {
   "cell_type": "code",
   "execution_count": 15,
   "metadata": {},
   "outputs": [
    {
     "name": "stdout",
     "output_type": "stream",
     "text": [
      "(96, 1681)\n",
      "(24, 1681)\n",
      "(480, 1681)\n",
      "(600, 41, 41)\n"
     ]
    }
   ],
   "source": [
    "print(x_test.shape)\n",
    "print(x_train.shape)\n",
    "print(x_pool.shape)\n",
    "print(x_data.shape)"
   ]
  },
  {
   "cell_type": "markdown",
   "metadata": {},
   "source": [
    "## Generate the necessary oracle data"
   ]
  },
  {
   "cell_type": "code",
   "execution_count": 16,
   "metadata": {},
   "outputs": [
    {
     "name": "stdout",
     "output_type": "stream",
     "text": [
      "CPU times: user 16min 38s, sys: 13.8 s, total: 16min 52s\n",
      "Wall time: 1min 36s\n"
     ]
    }
   ],
   "source": [
    "%%time\n",
    "y_test = oracle(x_test)"
   ]
  },
  {
   "cell_type": "code",
   "execution_count": 17,
   "metadata": {},
   "outputs": [
    {
     "name": "stdout",
     "output_type": "stream",
     "text": [
      "CPU times: user 3min 47s, sys: 3.17 s, total: 3min 51s\n",
      "Wall time: 21.9 s\n"
     ]
    }
   ],
   "source": [
    "%%time\n",
    "y_train = oracle(x_train)"
   ]
  },
  {
   "cell_type": "markdown",
   "metadata": {},
   "source": [
    "## Set up the active learners\n",
    "\n",
    "One is a GPR using the maximum std and the other is random"
   ]
  },
  {
   "cell_type": "code",
   "execution_count": 18,
   "metadata": {},
   "outputs": [],
   "source": [
    "std_learner = ActiveLearner(\n",
    "    estimator=make_gp_model(),\n",
    "    query_strategy=lambda model, x_: pipe(\n",
    "        model.predict(x_, return_std=True)[1],\n",
    "        np.argmax,\n",
    "        lambda i: (i, x_[i])\n",
    "    ),\n",
    "    X_training=x_train,\n",
    "    y_training=y_train\n",
    ")\n",
    "\n",
    "\n",
    "random_learner = ActiveLearner(\n",
    "    estimator=make_gp_model(),\n",
    "    query_strategy=lambda model, x_: pipe(\n",
    "        np.random.randint(0, len(x_)),\n",
    "        lambda i: (i, x_[i])\n",
    "    ),\n",
    "    X_training=x_train,\n",
    "    y_training=y_train\n",
    ")\n",
    "\n",
    "\n",
    "gsx_learner = ActiveLearner(\n",
    "    estimator=make_gp_model(),\n",
    "    query_strategy=gsx_query,\n",
    "    X_training=x_train,\n",
    "    y_training=y_train\n",
    ")\n",
    "\n",
    "\n",
    "ensemble_learner = CommitteeRegressor(\n",
    "    learner_list=[\n",
    "        ActiveLearner(\n",
    "            estimator=make_gp_model(),\n",
    "            X_training=x_train_,\n",
    "            y_training=y_train_\n",
    "        )\n",
    "        for x_train_, y_train_ in zip(np.array_split(x_train, 5), np.array_split(y_train, 5))\n",
    "    ],\n",
    "    query_strategy=max_std_sampling\n",
    ")\n",
    "\n",
    "## required because CommitteeRegressor does not have a score function\n",
    "\n",
    "def score(self, x_true, y_true):\n",
    "    y_pred = self.predict(x_true)\n",
    "    return r2_score(y_true, y_pred)\n",
    "\n",
    "ensemble_learner.score = types.MethodType(score, ensemble_learner)\n",
    "    \n",
    "bayes_learner = BayesianOptimizer(\n",
    "    estimator=make_gp_model(),\n",
    "    X_training=x_train,\n",
    "    y_training=y_train,\n",
    "    query_strategy=max_EI\n",
    ")\n",
    "\n",
    "\n",
    "learners = dict(\n",
    "    std=std_learner,\n",
    "    random=random_learner,\n",
    "    ensemble=ensemble_learner,\n",
    "    bayes=bayes_learner,\n",
    "    gsx=gsx_learner\n",
    ")"
   ]
  },
  {
   "cell_type": "markdown",
   "metadata": {},
   "source": [
    "## Run the learners"
   ]
  },
  {
   "cell_type": "code",
   "execution_count": 19,
   "metadata": {},
   "outputs": [
    {
     "name": "stdout",
     "output_type": "stream",
     "text": [
      "evaluating std\n"
     ]
    },
    {
     "name": "stderr",
     "output_type": "stream",
     "text": [
      "100%|██████████| 50/50 [01:34<00:00,  1.89s/it]\n"
     ]
    },
    {
     "name": "stdout",
     "output_type": "stream",
     "text": [
      "evaluating random\n"
     ]
    },
    {
     "name": "stderr",
     "output_type": "stream",
     "text": [
      "100%|██████████| 50/50 [01:24<00:00,  1.70s/it]\n"
     ]
    },
    {
     "name": "stdout",
     "output_type": "stream",
     "text": [
      "evaluating ensemble\n"
     ]
    },
    {
     "name": "stderr",
     "output_type": "stream",
     "text": [
      "100%|██████████| 50/50 [03:44<00:00,  4.50s/it]\n"
     ]
    },
    {
     "name": "stdout",
     "output_type": "stream",
     "text": [
      "evaluating bayes\n"
     ]
    },
    {
     "name": "stderr",
     "output_type": "stream",
     "text": [
      "100%|██████████| 50/50 [01:35<00:00,  1.91s/it]\n"
     ]
    },
    {
     "name": "stdout",
     "output_type": "stream",
     "text": [
      "evaluating gsx\n"
     ]
    },
    {
     "name": "stderr",
     "output_type": "stream",
     "text": [
      "100%|██████████| 50/50 [01:32<00:00,  1.85s/it]\n"
     ]
    }
   ],
   "source": [
    "def evaluate_item(item):\n",
    "    name, learner = item\n",
    "    print('evaluating', name)\n",
    "    return name, evaluate_learner(oracle, x_pool, x_test, y_test, 50, learner)\n",
    "\n",
    "learners_updated = itemmap(evaluate_item, learners)"
   ]
  },
  {
   "cell_type": "markdown",
   "metadata": {},
   "source": [
    "## The results"
   ]
  },
  {
   "cell_type": "code",
   "execution_count": 21,
   "metadata": {},
   "outputs": [
    {
     "data": {
      "text/plain": [
       "(0.6, 1.0)"
      ]
     },
     "execution_count": 21,
     "metadata": {},
     "output_type": "execute_result"
    },
    {
     "data": {
      "image/png": "[encoded data removed]",
      "text/plain": [
       "<Figure size 432x288 with 1 Axes>"
      ]
     },
     "metadata": {
      "needs_background": "light"
     },
     "output_type": "display_data"
    }
   ],
   "source": [
    "for k, v in learners_updated.items():\n",
    "    plt.plot(v.scores, label=k)\n",
    "plt.legend()\n",
    "plt.xlabel('iterations')\n",
    "plt.ylabel('mse');\n",
    "plt.ylim(0.6, 1)"
   ]
  },
  {
   "cell_type": "markdown",
   "metadata": {},
   "source": [
    "## Check what the accuracy actually looks like"
   ]
  },
  {
   "cell_type": "code",
   "execution_count": 79,
   "metadata": {},
   "outputs": [],
   "source": [
    "y_pred_std = learner_accuracy['std'][1].predict(x_test)\n",
    "y_pred_random = learner_accuracy['random'][1].predict(x_test)"
   ]
  },
  {
   "cell_type": "code",
   "execution_count": 89,
   "metadata": {},
   "outputs": [
    {
     "data": {
      "text/plain": [
       "<module 'matplotlib.pyplot' from '/nix/store/c8sgkmibi2vyfw75w9vai2917j5smvq7-python3.8-matplotlib-3.3.1/lib/python3.8/site-packages/matplotlib/pyplot.py'>"
      ]
     },
     "execution_count": 89,
     "metadata": {},
     "output_type": "execute_result"
    },
    {
     "data": {
      "image/png": "[encoded data removed]",
      "text/plain": [
       "<Figure size 432x288 with 1 Axes>"
      ]
     },
     "metadata": {
      "needs_background": "light"
     },
     "output_type": "display_data"
    }
   ],
   "source": [
    "plot_parity(y_test, y_pred_random, label='random')"
   ]
  },
  {
   "cell_type": "code",
   "execution_count": 90,
   "metadata": {},
   "outputs": [
    {
     "data": {
      "text/plain": [
       "<module 'matplotlib.pyplot' from '/nix/store/c8sgkmibi2vyfw75w9vai2917j5smvq7-python3.8-matplotlib-3.3.1/lib/python3.8/site-packages/matplotlib/pyplot.py'>"
      ]
     },
     "execution_count": 90,
     "metadata": {},
     "output_type": "execute_result"
    },
    {
     "data": {
      "image/png": "[encoded data removed]",
      "text/plain": [
       "<Figure size 432x288 with 1 Axes>"
      ]
     },
     "metadata": {
      "needs_background": "light"
     },
     "output_type": "display_data"
    }
   ],
   "source": [
    "plot_parity(y_test, y_pred_std, label='std')"
   ]
  },
  {
   "cell_type": "markdown",
   "metadata": {},
   "source": [
    "## Sandbox"
   ]
  },
  {
   "cell_type": "code",
   "execution_count": 36,
   "metadata": {},
   "outputs": [
    {
     "name": "stderr",
     "output_type": "stream",
     "text": [
      "100%|██████████| 30/30 [00:57<00:00,  1.93s/it]\n"
     ]
    }
   ],
   "source": [
    "out = evaluate_learner(oracle, x_pool, evaluate_func(x_test, y_test), 30, gsx_learner)"
   ]
  },
  {
   "cell_type": "code",
   "execution_count": 37,
   "metadata": {},
   "outputs": [
    {
     "data": {
      "text/plain": [
       "[<matplotlib.lines.Line2D at 0x7faf9c5f99a0>]"
      ]
     },
     "execution_count": 37,
     "metadata": {},
     "output_type": "execute_result"
    },
    {
     "data": {
      "image/png": "[encoded data removed]",
      "text/plain": [
       "<Figure size 432x288 with 1 Axes>"
      ]
     },
     "metadata": {
      "needs_background": "light"
     },
     "output_type": "display_data"
    }
   ],
   "source": [
    "plt.semilogy(out[0])"
   ]
  },
  {
   "cell_type": "code",
   "execution_count": null,
   "metadata": {},
   "outputs": [],
   "source": []
  }
 ],
 "metadata": {
  "kernelspec": {
   "display_name": "Python 3",
   "language": "python",
   "name": "python3"
  },
  "language_info": {
   "codemirror_mode": {
    "name": "ipython",
    "version": 3
   },
   "file_extension": ".py",
   "mimetype": "text/x-python",
   "name": "python",
   "nbconvert_exporter": "python",
   "pygments_lexer": "ipython3",
   "version": "3.8.5"
  }
 },
 "nbformat": 4,
 "nbformat_minor": 4
}
